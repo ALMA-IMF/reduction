{
 "cells": [
  {
   "cell_type": "code",
   "execution_count": 1,
   "id": "759f3a4c-00b8-44d6-9133-45a6dfa939ab",
   "metadata": {},
   "outputs": [
    {
     "data": {
      "text/plain": [
       "'/scratch/local/64463386'"
      ]
     },
     "execution_count": 1,
     "metadata": {},
     "output_type": "execute_result"
    }
   ],
   "source": [
    "import os\n",
    "os.getenv(\"SLURM_TMPDIR\")"
   ]
  },
  {
   "cell_type": "code",
   "execution_count": 2,
   "id": "0ed09a85-8ec6-41d5-aa87-819b969abea5",
   "metadata": {},
   "outputs": [],
   "source": [
    "os.chdir(os.getenv('SLURM_TMPDIR'))"
   ]
  },
  {
   "cell_type": "code",
   "execution_count": 3,
   "id": "64e73df5-b30d-4b5d-bc7b-81e90a1cb2f9",
   "metadata": {},
   "outputs": [],
   "source": [
    "#os.mkdir('/blue/adamginsburg/adamginsburg/almaimf/test_reconstruction')\n",
    "os.chdir('/blue/adamginsburg/adamginsburg/almaimf/test_reconstruction')"
   ]
  },
  {
   "cell_type": "markdown",
   "id": "7c17811f-5302-4433-a1aa-b803c53e7ef6",
   "metadata": {},
   "source": [
    "# Restore non-JvM cubes from distributed data\n",
    "\n",
    "We used JvM (https://ui.adsabs.harvard.edu/abs/1995AJ....110.2037J/abstract) correction to produce the distributed data cubes.  \n",
    "\n",
    "In the JvM correction process, the residuals are suppressed by a factor set by the ratio of the dirty beam within the first null to the clean beam.\n",
    "\n",
    "If you want to restore the residuals to their original values, this script demonstrates how, starting with the data download:"
   ]
  },
  {
   "cell_type": "markdown",
   "id": "bed22404-a4eb-403c-b81e-2879736a7cb9",
   "metadata": {},
   "source": [
    "## Download data:\n",
    "Download some data using the script at https://gist.github.com/keflavich/46cbf66a4c5ba7a9d64753acdfeeb036"
   ]
  },
  {
   "cell_type": "code",
   "execution_count": 4,
   "id": "03eeac43-3e66-48e8-b5f9-f5c504393f9f",
   "metadata": {},
   "outputs": [],
   "source": [
    "# An API key on dataverse is required\n",
    "with open(os.path.expanduser('~/.almaimf_dataverse_token'), 'r') as fh:\n",
    "    api_key = token = fh.read().strip()"
   ]
  },
  {
   "cell_type": "markdown",
   "id": "ae54ad0a-bdf0-417a-8a82-75ca03e12a15",
   "metadata": {},
   "source": [
    "You'll want to replace G353.41_B6_spw1 with whatever field name you are looking at.  This example case is to demonstrate the process and prove it works"
   ]
  },
  {
   "cell_type": "code",
   "execution_count": 5,
   "id": "4613b094-34c0-46bd-8da5-c209f465000c",
   "metadata": {},
   "outputs": [],
   "source": [
    "field_id = 'G353.41_B6_spw1_12M_spw1'"
   ]
  },
  {
   "cell_type": "code",
   "execution_count": 6,
   "id": "7d6cbff6-ac85-4f75-970c-3f62342c443f",
   "metadata": {},
   "outputs": [],
   "source": [
    "import requests, os\n",
    "\n",
    "dataverse_server='https://dataverse.harvard.edu'\n",
    "\n",
    "suffix = {'model': 'YWW5BY',\n",
    "          'pb': 'RBS6KT',\n",
    "          'cont': 'SF09HK',\n",
    "          'cube': 'CJ3YXU'}\n",
    "\n",
    "for doiend in suffix.values():\n",
    "    persistentId = f'doi:10.7910/DVN/{doiend}'\n",
    "\n",
    "    url_list = f'{dataverse_server}/api/datasets/:persistentId/versions/:draft/files?key={api_key}&persistentId={persistentId}'\n",
    "    filelist_resp = requests.get(url_list)\n",
    "    file_metadata = filelist_resp.json()\n",
    "\n",
    "    # loop through *all files* and download them if they're not already downloaded\n",
    "    for fm in file_metadata['data']:\n",
    "        if field_id in fm['dataFile']['filename'] and not os.path.exists(fm['dataFile']['filename']):\n",
    "            print(\"Downloading \", fm['dataFile']['filename'])\n",
    "            resp = requests.get(f\"{dataverse_server}/api/access/datafile/{fm['dataFile']['id']}\", stream=True,\n",
    "                                params={'key': api_key},\n",
    "                                auth=(api_key, ''), )\n",
    "            resp.raise_for_status()\n",
    "            with open(fm['dataFile']['filename'], 'wb') as fh:\n",
    "                fh.write(resp.content)"
   ]
  },
  {
   "cell_type": "markdown",
   "id": "8c4136e0-7e5d-4de4-bc7b-d722271193ab",
   "metadata": {},
   "source": [
    "# Reconstruct more cubes\n",
    "\n",
    "We'll be making several copies of the cubes with different properties:\n",
    "\n",
    " * non-continuum-subtracted\n",
    " * residual\n",
    " * non-PB-corrected\n",
    " * non-continuum-subtracted and non-pb-corrected\n",
    " * non-JvM-corrected\n",
    " \n",
    "Each of these cubes will take up significant hard drive space, and some of these operations are computationally expensive and require a lot of memory."
   ]
  },
  {
   "cell_type": "code",
   "execution_count": 7,
   "id": "f94f6860-9c9c-426a-bd10-94a034763589",
   "metadata": {},
   "outputs": [],
   "source": [
    "from spectral_cube import SpectralCube"
   ]
  },
  {
   "cell_type": "code",
   "execution_count": 8,
   "id": "5c58b78e-f6eb-4fb1-ac55-00752838b78f",
   "metadata": {},
   "outputs": [
    {
     "data": {
      "text/plain": [
       "DaskSpectralCube with shape=(959, 823, 819) and unit=Jy / beam and chunk size (322, 322, 273):\n",
       " n_x:    819  type_x: RA---SIN  unit_x: deg    range:   262.586003 deg:  262.632997 deg\n",
       " n_y:    823  type_y: DEC--SIN  unit_y: deg    range:   -34.716545 deg:  -34.677728 deg\n",
       " n_s:    959  type_s: FREQ      unit_s: Hz     range: 217045473750.146 Hz:217279338345.200 Hz"
      ]
     },
     "execution_count": 8,
     "metadata": {},
     "output_type": "execute_result"
    }
   ],
   "source": [
    "cube = SpectralCube.read(f'{field_id}.JvM.image.pbcor.statcont.contsub.fits', use_dask=True)\n",
    "cube.allow_huge_operations = True\n",
    "cube"
   ]
  },
  {
   "cell_type": "code",
   "execution_count": 9,
   "id": "56796c19-c60f-429f-9cd7-4c78e1c40946",
   "metadata": {},
   "outputs": [
    {
     "data": {
      "text/plain": [
       "0.7887069317340462"
      ]
     },
     "execution_count": 9,
     "metadata": {},
     "output_type": "execute_result"
    }
   ],
   "source": [
    "for com in cube.header['COMMENT']:\n",
    "    if 'JvM_epsilon_median' in com:\n",
    "        JvM_Factor = float(com.split(\"=\")[-1])\n",
    "JvM_Factor"
   ]
  },
  {
   "cell_type": "code",
   "execution_count": 10,
   "id": "7f46f5d7-7c55-44f6-a2ba-212a05ffaaa2",
   "metadata": {},
   "outputs": [],
   "source": [
    "from astropy.io import fits\n",
    "from astropy import units as u"
   ]
  },
  {
   "cell_type": "code",
   "execution_count": 11,
   "id": "712d4a91-e28d-425b-8a70-876d580383ea",
   "metadata": {},
   "outputs": [],
   "source": [
    "pb = fits.open(f'{field_id}.flatpb.fits')"
   ]
  },
  {
   "cell_type": "code",
   "execution_count": 12,
   "id": "9f35fe99-4c48-4da0-aedd-897e6b874e76",
   "metadata": {},
   "outputs": [],
   "source": [
    "non_pb_cube = cube * pb[0].data\n",
    "non_pb_cube.write(f'{field_id}.JvM.image.statcont.contsub.fits', overwrite=True)"
   ]
  },
  {
   "cell_type": "code",
   "execution_count": 13,
   "id": "44e0e249-4f60-45cc-8c93-1492fc761ad3",
   "metadata": {},
   "outputs": [],
   "source": [
    "cont = fits.open(f'{field_id}.JvM.image.pbcor.statcont.cont.fits')"
   ]
  },
  {
   "cell_type": "code",
   "execution_count": 14,
   "id": "971ae553-279f-4c8d-9297-858613b6b9e2",
   "metadata": {},
   "outputs": [],
   "source": [
    "non_contsub_cube = cube + cont[0].data * u.Unit(cont[0].header['BUNIT'])\n",
    "non_contsub_cube.write(f'{field_id}.JvM.image.pbcor.fits', overwrite=True)\n",
    "non_contsub_non_pb_cube = non_contsub_cube * pb[0].data\n",
    "non_contsub_non_pb_cube.write(f'{field_id}.JvM.image.fits', overwrite=True)"
   ]
  },
  {
   "cell_type": "code",
   "execution_count": 15,
   "id": "e0828ede-ec36-4cd7-9a30-9f5361e66572",
   "metadata": {},
   "outputs": [
    {
     "data": {
      "text/plain": [
       "DaskSpectralCube with shape=(959, 823, 819) and unit=Jy / pix and chunk size (322, 322, 273):\n",
       " n_x:    819  type_x: RA---SIN  unit_x: deg    range:   262.586003 deg:  262.632997 deg\n",
       " n_y:    823  type_y: DEC--SIN  unit_y: deg    range:   -34.716545 deg:  -34.677728 deg\n",
       " n_s:    959  type_s: FREQ      unit_s: Hz     range: 217045473750.146 Hz:217279338345.200 Hz"
      ]
     },
     "execution_count": 15,
     "metadata": {},
     "output_type": "execute_result"
    }
   ],
   "source": [
    "modcube = SpectralCube.read(f'{field_id}.model.minimized.fits.gz', use_dask=True)\n",
    "modcube.allow_huge_operations = True\n",
    "modcube"
   ]
  },
  {
   "cell_type": "code",
   "execution_count": 16,
   "id": "dbb2040b-3a49-4877-b5a3-120ba457405d",
   "metadata": {},
   "outputs": [],
   "source": [
    "import radio_beam"
   ]
  },
  {
   "cell_type": "markdown",
   "id": "3bd80423-982e-4e4c-baa7-a41a6144d792",
   "metadata": {},
   "source": [
    "## Creating the Residual\n",
    "\n",
    "This step makes the original residual cube.  It is expensive because it requires convolving every channel of the model cube with the target cube beam.\n",
    "\n",
    "You may need to explore some of spectral-cube's options for memory-intensive operations and/or use a more powerful computer for this step.\n",
    "\n",
    "Note also that we're using a bit of a hack to make the model cube, with units of Jy/pixel, convolvable to the target beam."
   ]
  },
  {
   "cell_type": "code",
   "execution_count": 17,
   "id": "f6301b1a-f868-421d-8848-13a02e0838c4",
   "metadata": {},
   "outputs": [],
   "source": [
    "pixsize = modcube.wcs.proj_plane_pixel_area()**0.5\n",
    "# beam size needs to be scaled such that the conversion factor is 1\n",
    "modcube_with_deltabeam = modcube.with_beam(radio_beam.Beam(pixsize / 1.1330900354567983))\n",
    "modcube_with_jybeam = modcube_with_deltabeam.to(u.Jy/u.beam)"
   ]
  },
  {
   "cell_type": "code",
   "execution_count": 18,
   "id": "497a8464-4465-4142-8455-6752f1d5a8a9",
   "metadata": {},
   "outputs": [],
   "source": [
    "modcube_smooth = modcube_with_jybeam.convolve_to(cube.beam)"
   ]
  },
  {
   "cell_type": "code",
   "execution_count": null,
   "id": "0f4e7ebc-7edc-49b3-96f8-5b5b4df56122",
   "metadata": {},
   "outputs": [],
   "source": [
    "residual = (non_contsub_non_pb_cube - modcube_smooth) / JvM_Factor\n",
    "residual.write(f'{field_id}.residual.fits', overwrite=True)"
   ]
  },
  {
   "cell_type": "code",
   "execution_count": null,
   "id": "62349c31-8b2d-4872-aba1-46d085694ac8",
   "metadata": {},
   "outputs": [],
   "source": [
    "non_jvm_cube = non_contsub_non_pb_cube + (residual * (1-JvM_Factor))\n",
    "non_jvm_cube.write(f'{field_id}.image.fits', overwrite=True)\n",
    "non_jvm_pbcor_cube = non_jvm_cube / pb[0].data\n",
    "non_jvm_pbcor_cube.write(f'{field_id}.image.pbcor.fits', overwrite=True)"
   ]
  },
  {
   "cell_type": "markdown",
   "id": "e8afbe8e-8b67-476d-964d-7993ebd51afd",
   "metadata": {},
   "source": [
    "## Validation\n",
    "\n",
    "For the example case, the peak value is at X,Y,Z= and has value="
   ]
  },
  {
   "cell_type": "code",
   "execution_count": null,
   "id": "f1b68c40-eba2-4eb8-8ae1-42b56773125b",
   "metadata": {},
   "outputs": [],
   "source": [
    "non_jvm_cube.argmax()"
   ]
  },
  {
   "cell_type": "code",
   "execution_count": null,
   "id": "c0e93155-8c4b-48da-8180-03bebb025b58",
   "metadata": {},
   "outputs": [],
   "source": []
  }
 ],
 "metadata": {
  "kernelspec": {
   "display_name": "python39",
   "language": "python",
   "name": "python39"
  },
  "language_info": {
   "codemirror_mode": {
    "name": "ipython",
    "version": 3
   },
   "file_extension": ".py",
   "mimetype": "text/x-python",
   "name": "python",
   "nbconvert_exporter": "python",
   "pygments_lexer": "ipython3",
   "version": "3.9.13"
  }
 },
 "nbformat": 4,
 "nbformat_minor": 5
}
